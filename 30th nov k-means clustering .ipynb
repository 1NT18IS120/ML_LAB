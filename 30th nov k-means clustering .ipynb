{
 "cells": [
  {
   "cell_type": "code",
   "execution_count": 1,
   "metadata": {},
   "outputs": [
    {
     "name": "stdout",
     "output_type": "stream",
     "text": [
      "[(5.9, 3.2), (4.6, 2.9), (4.7, 3.2), (5.0, 3.0), (4.9, 3.1), (5.1, 3.8), (6.0, 3.0)]\n",
      "[(5.5, 4.2)]\n",
      "[(6.2, 2.8)]\n"
     ]
    }
   ],
   "source": [
    "points = [(5.9,3.2),\n",
    "         (4.6, 2.9),\n",
    "         (6.2, 2.8),\n",
    "         (4.7, 3.2),\n",
    "         (5.5, 4.2),\n",
    "         (5.0, 3.0),\n",
    "         (4.9, 3.1),\n",
    "         (5.1, 3.8),\n",
    "         (6.0, 3.0)]\n",
    "\n",
    "rc = [6.2, 3.2]\n",
    "gc = [6.6, 3.7]\n",
    "bc = [6.5, 3.0]\n",
    "\n",
    "centroids = [rc, gc, bc]\n",
    "\n",
    "def find_which_centroid(point, centroids):\n",
    "#     return [((point[0] - centroid[0])**2 + (point[1] - centroid[1])**2)**(0.5),\n",
    "    l = []\n",
    "    for centroid in centroids:\n",
    "        l.append([((point[0] - centroid[0])**2 + (point[1] - centroid[1])**2)**(0.5), centroid])\n",
    "    min_centroid_list = l[0]\n",
    "   \n",
    "    # list: [[1, [2,3]], list[0] = [1, [2,3]], list[0][1] = [2,3]\n",
    "    #        [4, [5,6]],\n",
    "    #       ]\n",
    "   \n",
    "    for i in l:\n",
    "        if i[0] < min_centroid_list[0]:\n",
    "            min_centroid_list = i\n",
    "    return min_centroid_list[1]\n",
    "       \n",
    "   \n",
    "\n",
    "def cluster_points(points, centroids):\n",
    "    rl = []\n",
    "    gl = []\n",
    "    bl = []\n",
    "    for point in points:\n",
    "        c = find_which_centroid(point, centroids)\n",
    "        if c == centroids[0]:\n",
    "            rl.append(point)\n",
    "        elif c == centroids[1]:\n",
    "            gl.append(point)\n",
    "        else:\n",
    "            bl.append(point)\n",
    "    l = [rl, gl, bl]\n",
    "    return l\n",
    "   \n",
    "clusters = cluster_points(points, centroids)\n",
    "for cluster in clusters:\n",
    "    print(cluster) \n",
    "\n"
   ]
  },
  {
   "cell_type": "code",
   "execution_count": null,
   "metadata": {},
   "outputs": [],
   "source": []
  }
 ],
 "metadata": {
  "kernelspec": {
   "display_name": "Python 3",
   "language": "python",
   "name": "python3"
  },
  "language_info": {
   "codemirror_mode": {
    "name": "ipython",
    "version": 3
   },
   "file_extension": ".py",
   "mimetype": "text/x-python",
   "name": "python",
   "nbconvert_exporter": "python",
   "pygments_lexer": "ipython3",
   "version": "3.8.10"
  }
 },
 "nbformat": 4,
 "nbformat_minor": 4
}
